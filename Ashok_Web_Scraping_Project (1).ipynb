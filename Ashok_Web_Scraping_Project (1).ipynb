{
  "nbformat": 4,
  "nbformat_minor": 0,
  "metadata": {
    "colab": {
      "name": "Ashok Web-Scraping Project.ipynb",
      "provenance": [],
      "collapsed_sections": []
    },
    "kernelspec": {
      "name": "python3",
      "display_name": "Python 3"
    },
    "language_info": {
      "name": "python"
    }
  },
  "cells": [
    {
      "cell_type": "code",
      "metadata": {
        "id": "ktAOIBFFkmPE"
      },
      "source": [
        "import pandas as pd\n",
        "import re\n",
        "import requests\n",
        "from bs4 import BeautifulSoup"
      ],
      "execution_count": null,
      "outputs": []
    },
    {
      "cell_type": "code",
      "metadata": {
        "id": "pCZx8ueekm8_"
      },
      "source": [
        "NAME=[]\n",
        "AGE=[]\n",
        "OVA = []\n",
        "POT = []\n",
        "TEAM_NAME = []\n",
        "CONTRACT = []\n",
        "VALUE = []\n",
        "WAGE = []\n",
        "TOTAL_STATS = []"
      ],
      "execution_count": null,
      "outputs": []
    },
    {
      "cell_type": "code",
      "metadata": {
        "id": "uoUjSfQiknBN"
      },
      "source": [
        "a = [0,60,120,180,240,300,360,420,480,540]\n",
        "for i in a:\n",
        "      url = f'https://sofifa.com/players?offset={i}'\n",
        "      resp = requests.get(url)\n",
        "      soup = BeautifulSoup(resp.content, 'lxml')\n",
        "      #NAME\n",
        "      b = soup.findAll('a',class_='tooltip')\n",
        "      for index in range(0,60):\n",
        "                name = b[index]\n",
        "                NAME.append(re.sub('<.*\">|\\xa0|18</span>|</div></a>','',str(name)))\n",
        "      #AGE\n",
        "      for age in soup.findAll('td',class_='col col-ae'):\n",
        "                AGE.append(re.sub('<td.*\">|</td>','',str(age)))\n",
        "      #OVA\n",
        "      for ova in soup.findAll('td', class_='col col-oa'):\n",
        "                OVA.append(re.sub('<td.*\">|</span></td>','',str(ova)))\n",
        "      #POT\n",
        "      for pot in soup.findAll('td',class_='col col-pt'):\n",
        "                POT.append(re.sub('<td.*\">|</span></td>','',str(pot)))\n",
        "      #TEAM_NAME\n",
        "      c = soup.findAll('td', class_='col-name') \n",
        "      for index in range(1,120,2):\n",
        "               team_name=c[index]\n",
        "               TEAM_NAME.append(re.sub('<td.*\">|<a.*/\">|\\n|<div.*\">|<img.*\"/>|</figure>|a>.*<|</.*>|[0-9]+| ~ |Jun|,|On Loan|<span.*\">','',str(team_name)))\n",
        "      #CONTRACT\n",
        "      for contract in soup.findAll('div', class_='sub'):\n",
        "                CONTRACT.append(re.sub('</div>|\\n|<.*>','',str(contract)))\n",
        "      #VALUE\n",
        "      for value in soup.findAll('td', class_='col col-vl'):\n",
        "                VALUE.append(re.sub('<.*€|M|K|</td>','',str(value)))\n",
        "      #WAGE\n",
        "      for wage in soup.findAll('td',class_='col col-wg'):\n",
        "                WAGE.append(re.sub('<.*€|K|</td>','',str(wage)))\n",
        "      #TOTAL_STATS\n",
        "      for total_stats in soup.findAll('td', class_='col col-tt'):\n",
        "                TOTAL_STATS.append(re.sub('<.*\">|</span></td>','',str(total_stats)))\n",
        "df = pd.DataFrame({\"Name\": NAME,\"Age\": AGE,\n",
        "                   \"Overall_Rating\": OVA,\n",
        "                   \"Potential\": POT,\n",
        "                   \"Team_Name\": TEAM_NAME,\n",
        "                   \"Contract_Year\": CONTRACT,\n",
        "                   \"Value(M)\": VALUE,\n",
        "                   \"Wage(K)\": WAGE,\n",
        "                   \"Total_Stats\": TOTAL_STATS})\n",
        "df.to_csv('fifa.csv')"
      ],
      "execution_count": null,
      "outputs": []
    },
    {
      "cell_type": "code",
      "metadata": {
        "id": "8mWaWLb2knDy",
        "colab": {
          "base_uri": "https://localhost:8080/"
        },
        "outputId": "e11c4f76-ec49-4acd-8203-865bbbe055f4"
      },
      "source": [
        "len(NAME)"
      ],
      "execution_count": null,
      "outputs": [
        {
          "output_type": "execute_result",
          "data": {
            "text/plain": [
              "600"
            ]
          },
          "metadata": {},
          "execution_count": 4
        }
      ]
    },
    {
      "cell_type": "code",
      "metadata": {
        "id": "6moc8tRhknHU",
        "colab": {
          "base_uri": "https://localhost:8080/"
        },
        "outputId": "4061a165-9984-4a6f-8c4e-d2216942545a"
      },
      "source": [
        "len(AGE)"
      ],
      "execution_count": null,
      "outputs": [
        {
          "output_type": "execute_result",
          "data": {
            "text/plain": [
              "600"
            ]
          },
          "metadata": {},
          "execution_count": 5
        }
      ]
    },
    {
      "cell_type": "code",
      "metadata": {
        "colab": {
          "base_uri": "https://localhost:8080/"
        },
        "id": "2Jv9LzFZVMBn",
        "outputId": "81ec56e9-3564-4b16-9628-a2aae819cc1b"
      },
      "source": [
        "len(OVA)"
      ],
      "execution_count": null,
      "outputs": [
        {
          "output_type": "execute_result",
          "data": {
            "text/plain": [
              "600"
            ]
          },
          "metadata": {},
          "execution_count": 6
        }
      ]
    },
    {
      "cell_type": "code",
      "metadata": {
        "colab": {
          "base_uri": "https://localhost:8080/"
        },
        "id": "cIbrcQsgVMOw",
        "outputId": "8c544dac-217d-49d3-f2ab-a9e74ee258a5"
      },
      "source": [
        "len(POT)"
      ],
      "execution_count": null,
      "outputs": [
        {
          "output_type": "execute_result",
          "data": {
            "text/plain": [
              "600"
            ]
          },
          "metadata": {},
          "execution_count": 7
        }
      ]
    },
    {
      "cell_type": "code",
      "metadata": {
        "colab": {
          "base_uri": "https://localhost:8080/"
        },
        "id": "vMwdCfYKVMRY",
        "outputId": "3862cd91-9598-4d17-dbaf-c41289c029ac"
      },
      "source": [
        "len(CONTRACT)"
      ],
      "execution_count": null,
      "outputs": [
        {
          "output_type": "execute_result",
          "data": {
            "text/plain": [
              "600"
            ]
          },
          "metadata": {},
          "execution_count": 8
        }
      ]
    },
    {
      "cell_type": "code",
      "metadata": {
        "colab": {
          "base_uri": "https://localhost:8080/"
        },
        "id": "ixq3sBG0VMT9",
        "outputId": "269d1848-aec6-4eff-f661-122582c93604"
      },
      "source": [
        "len(VALUE)"
      ],
      "execution_count": null,
      "outputs": [
        {
          "output_type": "execute_result",
          "data": {
            "text/plain": [
              "600"
            ]
          },
          "metadata": {},
          "execution_count": 9
        }
      ]
    },
    {
      "cell_type": "code",
      "metadata": {
        "colab": {
          "base_uri": "https://localhost:8080/"
        },
        "id": "HK1cI4X2VMWH",
        "outputId": "21d2b63b-d773-4f78-9bc7-1b7086cab299"
      },
      "source": [
        "len(WAGE)"
      ],
      "execution_count": null,
      "outputs": [
        {
          "output_type": "execute_result",
          "data": {
            "text/plain": [
              "600"
            ]
          },
          "metadata": {},
          "execution_count": 10
        }
      ]
    },
    {
      "cell_type": "code",
      "metadata": {
        "colab": {
          "base_uri": "https://localhost:8080/"
        },
        "id": "Z0T4ge9GVMY1",
        "outputId": "5c6a843b-b7ec-454d-ffee-81f3ee937f54"
      },
      "source": [
        "len(TOTAL_STATS)"
      ],
      "execution_count": null,
      "outputs": [
        {
          "output_type": "execute_result",
          "data": {
            "text/plain": [
              "600"
            ]
          },
          "metadata": {},
          "execution_count": 11
        }
      ]
    },
    {
      "cell_type": "code",
      "metadata": {
        "id": "FfYM4olHVMcV"
      },
      "source": [
        ""
      ],
      "execution_count": null,
      "outputs": []
    },
    {
      "cell_type": "code",
      "metadata": {
        "id": "-726lV0HVMko"
      },
      "source": [
        ""
      ],
      "execution_count": null,
      "outputs": []
    },
    {
      "cell_type": "code",
      "metadata": {
        "id": "LS0C_OkuVMm8"
      },
      "source": [
        ""
      ],
      "execution_count": null,
      "outputs": []
    },
    {
      "cell_type": "code",
      "metadata": {
        "id": "wQVZ6PeLVMqb"
      },
      "source": [
        ""
      ],
      "execution_count": null,
      "outputs": []
    }
  ]
}